{
 "cells": [
  {
   "cell_type": "code",
   "execution_count": 6,
   "id": "7db2e911",
   "metadata": {},
   "outputs": [
    {
     "name": "stdout",
     "output_type": "stream",
     "text": [
      "50\n"
     ]
    }
   ],
   "source": [
    "def my_function(a,b,c):            #Question1\n",
    "    if a<b:\n",
    "        print(b)\n",
    "    elif c<a:\n",
    "        print(c)\n",
    "    else :\n",
    "        print(a)\n",
    "my_function(22,50,9) "
   ]
  },
  {
   "cell_type": "code",
   "execution_count": 8,
   "id": "626b532a",
   "metadata": {},
   "outputs": [
    {
     "data": {
      "text/plain": [
       "(6, 2)"
      ]
     },
     "execution_count": 8,
     "metadata": {},
     "output_type": "execute_result"
    }
   ],
   "source": [
    "def my_function(x,y):            #Question2\n",
    "    return(x+y,x-y)\n",
    "my_function(4,2) "
   ]
  },
  {
   "cell_type": "code",
   "execution_count": null,
   "id": "7b312a77",
   "metadata": {},
   "outputs": [],
   "source": []
  }
 ],
 "metadata": {
  "kernelspec": {
   "display_name": "Python 3 (ipykernel)",
   "language": "python",
   "name": "python3"
  },
  "language_info": {
   "codemirror_mode": {
    "name": "ipython",
    "version": 3
   },
   "file_extension": ".py",
   "mimetype": "text/x-python",
   "name": "python",
   "nbconvert_exporter": "python",
   "pygments_lexer": "ipython3",
   "version": "3.9.7"
  }
 },
 "nbformat": 4,
 "nbformat_minor": 5
}
